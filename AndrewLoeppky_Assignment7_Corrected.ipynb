{
 "cells": [
  {
   "cell_type": "code",
   "execution_count": 1,
   "metadata": {},
   "outputs": [],
   "source": [
    "import numpy as np\n",
    "from matplotlib import pyplot as plt"
   ]
  },
  {
   "cell_type": "markdown",
   "metadata": {},
   "source": [
    "# CMP Assignment 7\n",
    "## Andrew Loeppky\n",
    "\n",
    "**1.  (2 points)** Calculate the critical germ radius for homogeneous ice nucleation at -23°C, -33°C, and -43°C. Assume a spherical germ.  Make sure that the units are correct\n",
    "\n",
    "The critical germ radius occurs when the free energy of i-mer formation crosses a maximum. Start with eq 7.19\n",
    "\n",
    "$$\n",
    "\\Delta F = -\\frac{4\\pi a_i^3}{3\\nu_{mole}}k_bTln(S) + 4\\pi a^2 \\sigma\n",
    "$$\n",
    "\n",
    "differentiate and set the derivative equal to zero (find the function maxima):\n",
    "\n",
    "$$\n",
    "\\frac{\\partial\\Delta F}{\\partial a} = -\\frac{4\\pi 3a_i^2}{3\\nu_{mole}}k_bTln(S) + 4\\pi(2) a \\sigma = 0\n",
    "$$\n",
    "\n",
    "so the critical germ radius is:\n",
    "\n",
    "$$\n",
    "a_g = \\frac{2 \\sigma_{i,w}\\nu_{mole}}{k_bTln(S)}\n",
    "$$\n",
    "\n",
    "(note the error in Wang 7.20, off by a factor of pi) Calculate $\\nu_{mole}$, the molecular volume of water/ice, obtained by dividing molar mass by $NA$ times macroscopic density\n",
    "\n",
    "$$\n",
    "\\nu_{mole} = \\frac{M_w (kg/mol)}{\\rho NA(kg/m^3mol)}\n",
    "$$"
   ]
  },
  {
   "cell_type": "code",
   "execution_count": 2,
   "metadata": {},
   "outputs": [],
   "source": [
    "NA = 6.02*10**23 # Avagadros num\n",
    "kb = kb = 1.3806503 * 10 ** -23  # m2 kg s-2 K-1 boltzmann const\n",
    "rho_w = 1000 # kg/m3\n",
    "rho_i = 920 # kg/m3\n",
    "Mw = 18.02 / 1000 # kg/mol\n",
    "\n",
    "v_mole_w = Mw / (rho_w*NA)\n",
    "v_mole_i = Mw / (rho_i*NA)"
   ]
  },
  {
   "cell_type": "markdown",
   "metadata": {},
   "source": [
    "$\\sigma_{i,w}$ and $S$ can be obtained using the following parameterizations over the temperature range relevant to ice nucleation:\n",
    "\n",
    "$\n",
    "\\sigma_{i,w} = 189.081 + 13.1625T + 0.3469T^2+ (3.12\\cdot10^{−3})T^3\n",
    "$\n",
    "\n",
    "$\n",
    "ln(e_{s,i}) = 9.550426−(5723.265T^{−1}) + 3.53068  ln(T)−0.00728332T\n",
    "$\n",
    "\n",
    "$\n",
    "ln(e_{s,w}) = 54.842763−6763.22T^{−1} − 4.21ln(T) + 0.000367T + tanh(0.0415(T−218.8))(53.878−1331.22T^{−1} − 9.44523  ln(T) + 0.014025T)\n",
    "$\n",
    "\n",
    "where $S$ is defined as $e_{s,w}/e_{s,i}$"
   ]
  },
  {
   "cell_type": "code",
   "execution_count": 3,
   "metadata": {},
   "outputs": [],
   "source": [
    "def sig_iw(T):\n",
    "    \"\"\"\n",
    "    calculate surface tension of an ice-water interface given temperature (kelvin)\n",
    "    \"\"\"\n",
    "    T_c = T - 273.15\n",
    "    sig = (\n",
    "        189.081 + 13.1625 * T_c + 0.3469 * T_c ** 2 + 3.12 * 10 ** -3 * T_c ** 3\n",
    "    )  # 10^-3 N/m\n",
    "    sig *= 10 ** -3  # conversion to SI units N/m\n",
    "    return sig\n",
    "\n",
    "\n",
    "def S_iw(T):\n",
    "    \"\"\"\n",
    "    calculates the saturation ratio of an ice-water interface given temperature (kelvin)\n",
    "    \"\"\"\n",
    "    e_si = np.exp(\n",
    "        9.550426 - 5723.265 * T ** -1 + 3.53068 * np.log(T) - 0.00728332 * T\n",
    "    )  # Pa\n",
    "    e_sw = np.exp(\n",
    "        54.842763\n",
    "        - 6763.22 * T ** -1\n",
    "        - 4.21 * np.log(T)\n",
    "        + 0.000367 * T\n",
    "        + np.tanh(0.0415 * (T - 218.8))\n",
    "        * (53.878 - 1331.22 * T ** -1 - 9.44523 * np.log(T) + 0.014025 * T)\n",
    "    )  # Pa\n",
    "    return e_sw / e_si\n",
    "\n",
    "\n",
    "def a_g(T):\n",
    "    \"\"\"\n",
    "    calculates the critical radius of an ice germ given temperature\n",
    "    \"\"\"\n",
    "    a_g = (2 * sig_iw(T) * v_mole_i) / (kb * T * np.log(S_iw(T)))\n",
    "    return a_g"
   ]
  },
  {
   "cell_type": "code",
   "execution_count": 26,
   "metadata": {},
   "outputs": [
    {
     "name": "stdout",
     "output_type": "stream",
     "text": [
      "temp (oC)|  critical germ rad (nm)\n",
      "-----------------------------------\n",
      "-43      |        0.81\n",
      "-42      |        0.85\n",
      "-41      |        0.9\n",
      "-40      |        0.94\n",
      "-39      |        0.98\n",
      "-38      |        1.02\n",
      "-37      |        1.06\n",
      "-36      |        1.1\n",
      "-35      |        1.15\n",
      "-34      |        1.2\n",
      "-33      |        1.27\n",
      "-32      |        1.34\n",
      "-31      |        1.42\n",
      "-29      |        1.52\n",
      "-28      |        1.64\n",
      "-27      |        1.78\n",
      "-26      |        1.94\n",
      "-25      |        2.13\n",
      "-24      |        2.36\n",
      "-23      |        2.63\n"
     ]
    }
   ],
   "source": [
    "temps = np.linspace(230,250,20) # np.array([230.,240.,250.])\n",
    "print(f\"temp (oC)|  critical germ rad (nm)\")\n",
    "print(\"-----------------------------------\")\n",
    "for temp in temps:\n",
    "    print(\n",
    "        f\"{round(temp-273.15)}      |        {round(a_g(temp)*10**9,2)}\"\n",
    "    )  # print the critical germ rad in nanometers"
   ]
  },
  {
   "cell_type": "markdown",
   "metadata": {},
   "source": [
    "**2.  (4 points)** Plot the number of spherical ice embryos with radii $0.5 nm< r_i<5 nm$ found in a cloud droplet at equilibrium with the radius of 10μm.  Use temperatures of -23°C,-33°C, and -43°C. Use a logarithmic y-axis.  Include in your plot a vertical line for the critical germ radius from part (1).  (Hint:  Plot the number of ice embryos vs the size of the embryos).\n",
    "\n",
    "Starting with equation 7.1 (Wang), we can modify for a spherical ice germ nucleating in liquid water:\n",
    "\n",
    "$$\n",
    "N_i = N_{sat,i}exp\\left(\\frac{-\\Delta F_i}{k_bT}\\right)\n",
    "$$\n",
    "\n",
    "Where $N_i$ is the number of embryos in state $i$, $N_{sat,i}$ is the total number of molecules in the system, and $\\Delta F_i$ is the free energy of formation for each i-mer, given by eq 7.19\n",
    "\n",
    "$$\n",
    "\\Delta F_i = -\\frac{4}{3}\\frac{\\pi a^3}{\\nu_{molecular}}k_b T ln(S) + 4\\pi a_i^2\\sigma\n",
    "$$\n",
    "\n",
    "Find the number of molecules in a (spherical) 10μm liquid droplet:\n",
    "\n",
    "$$\n",
    "N_{sat,i} = \\frac{4\\pi a_{drop}^3}{3\\nu_{mole,w}}\n",
    "$$\n",
    "\n",
    "Or, if one wishes to calculate the number of molecules in a given volume of water:\n",
    "\n",
    "$$\n",
    "N_{sat,i} = \\frac{\\nu_{drop}}{\\nu_{mole}}\n",
    "$$"
   ]
  },
  {
   "cell_type": "code",
   "execution_count": 27,
   "metadata": {},
   "outputs": [],
   "source": [
    "def delF(T, a):\n",
    "    \"\"\"\n",
    "    calculates the free energy of spherical ice i-mer formation for temp T and i-mer radius a\n",
    "    \"\"\"\n",
    "    F = (-(4 / 3) * np.pi * a ** 3 * kb * T * np.log(S_iw(T)) / v_mole_i) + (\n",
    "        4 * np.pi * a ** 2 * sig_iw(T)  # wang eq 7.20\n",
    "    )\n",
    "    return F\n",
    "\n",
    "\n",
    "def Ni(T, a, N_sati):  # /m3\n",
    "    \"\"\"\n",
    "    calculates the number of ice i-mers of desired radius 'a', given temp T\n",
    "    \"\"\"\n",
    "    Ni = N_sati * np.exp(-delF(T, a) / (kb * T))  # wang eq 7.1\n",
    "    return Ni"
   ]
  },
  {
   "cell_type": "code",
   "execution_count": 38,
   "metadata": {},
   "outputs": [],
   "source": [
    "## DEFINE DROPLET SIZE HERE:\n",
    "droprad = 10 * 10 ** -6  # m\n",
    "N_sati = (4 * np.pi * droprad ** 3) / (3 * v_mole_w)  # number of molecules in 10um droplet"
   ]
  },
  {
   "cell_type": "code",
   "execution_count": 39,
   "metadata": {},
   "outputs": [
    {
     "data": {
      "image/png": "[encoded data removed]",
      "text/plain": [
       "<Figure size 432x288 with 1 Axes>"
      ]
     },
     "metadata": {
      "needs_background": "light"
     },
     "output_type": "display_data"
    }
   ],
   "source": [
    "# find the number of embryos occurring /m3 of supercooled water\n",
    "#N_sati = 1/v_mole_w\n",
    "'''\n",
    "colors = [\"b\", \"g\", \"r\"]\n",
    "for i in range(len(temps)):\n",
    "    a = np.linspace(0, a_g(temps[i]), 100)# only plot out to critical radius\n",
    "\n",
    "    the_temp = round(temps[i])\n",
    "    plt.plot(a, Ni(temps[i], a, N_sati), label=f\"T={the_temp-273} $^oC$\", color=colors[i])\n",
    "\n",
    "    plt.axvline(\n",
    "        x=a_g(temps[i]), color=colors[i], ls=\":\"\n",
    "    )  # draw the critical radius at T\n",
    "'''    \n",
    "for i in range(len(temps)):\n",
    "    a = np.linspace(0, a_g(temps[i]), 100)# only plot out to critical radius\n",
    "\n",
    "    the_temp = round(temps[i])\n",
    "    plt.plot(a, Ni(temps[i], a, N_sati), label=f\"T={the_temp-273} $^oC$\")\n",
    "\n",
    "    plt.axvline(\n",
    "        x=a_g(temps[i]), ls=\":\"\n",
    "    )  # draw the critical radius at T\n",
    "\n",
    "plt.legend()\n",
    "plt.yscale(\"log\")\n",
    "#plt.ylim([10 ** -102, 10 ** 15])\n",
    "plt.title(\"Number of Ice Embryos as a Function of Radius in a 10$\\mu m$ Cloud Drop\")\n",
    "plt.xlabel(\"Embryo Radius (m)\")\n",
    "plt.ylabel(\"Population\");"
   ]
  },
  {
   "cell_type": "markdown",
   "metadata": {},
   "source": [
    "For temperatures above ~$-40^oC$, we see that the number of critical embryos is less than one for a 10$\\mu m$ cloud droplet, so the chances of droplet activation are nearly zero\n",
    "\n",
    "**3.  (2 points)** We can now formulate a nucleation rate that determines how many critical ice germs are activated per second.  This nucleation rate is given by $J=K∗N_{i,crit}$ with the coefficient $K = 0.3 s^{−1}$.  (you can obtain $N_{i,crit}$ from Q2)\n",
    "\n",
    "Now we look at more than only one droplet.  We want to know how fast these droplets (r= 10μm) freeze.  We assume that a droplet freezes once an ice germ is activated inside the droplet.  With this assumption, we can derive the equation:\n",
    "\n",
    "$$\n",
    "N_u=N_0e^{−V_dJt}\n",
    "$$\n",
    "\n",
    "where $N_u$ is the number of unfrozen droplets,$N_0$ is the initial number of all droplets,$V_d$ is the volume of a droplet, $J$ is the nucleation rate, and $t$ is the time. Calculate the respective freezing times at which 50% of the droplets will freeze for the 3 temperatures from above.\n",
    "\n",
    "To solve for the time 50% of droplets freeze, set $N_u/N_0 = 1/2$ and invert the equation for $t$\n",
    "\n",
    "$$\n",
    "t=\\frac{-ln\\left(\\frac{1}{2}\\right)}{V_dJ}\n",
    "$$\n",
    "\n",
    "First, calculate $N_{i,crit}$, the number of critical i-mers in the droplet given temperature $T$, and resulting $J$:"
   ]
  },
  {
   "cell_type": "code",
   "execution_count": 30,
   "metadata": {},
   "outputs": [],
   "source": [
    "# these will only work for a droplet size defined above, please excuse messy global variable use\n",
    "def N_icrit(T):\n",
    "    \"\"\"\n",
    "    calculate the instantaneous number of embryos at critical radius \n",
    "    \"\"\"\n",
    "    N_icrit = Ni(T, a_g(T), N_sati)\n",
    "    return N_icrit\n",
    "\n",
    "def J(T):\n",
    "    J = 0.3 * N_icrit(T)\n",
    "    return J\n",
    "\n",
    "def t_50(T):\n",
    "    t_50 = -np.log(0.5) / J(T)\n",
    "    return t_50"
   ]
  },
  {
   "cell_type": "code",
   "execution_count": 35,
   "metadata": {},
   "outputs": [
    {
     "name": "stdout",
     "output_type": "stream",
     "text": [
      "temp (oC)    |         t_50 (s) \n",
      "-----------------------------------------\n"
     ]
    },
    {
     "data": {
      "image/png": "[encoded data removed]",
      "text/plain": [
       "<Figure size 432x288 with 1 Axes>"
      ]
     },
     "metadata": {
      "needs_background": "light"
     },
     "output_type": "display_data"
    }
   ],
   "source": [
    "print(\"temp (oC)    |         t_50 (s) \")\n",
    "print(\"-----------------------------------------\")\n",
    "t = []\n",
    "for temp in temps:\n",
    "    t.append(t_50(temp))\n",
    "    # print(f\"   {round(temp-273)}       |  {(t)} \")\n",
    "\n",
    "plt.plot(temps,t)\n",
    "plt.yscale('log')"
   ]
  },
  {
   "cell_type": "markdown",
   "metadata": {},
   "source": [
    "So at -23$^o$C the freezing time is orders of magnitude longer than the age of the universe. At lower temperatures -33$^o$C and -43$^o$C, the probability of homogeneous nucleation increases dramatically."
   ]
  },
  {
   "cell_type": "markdown",
   "metadata": {},
   "source": [
    "**4.  (1 point)** Explain from the results of questions 2 and 3, why the threshold for homogeneous freezing is so low at -43°C\n",
    "\n",
    "The surface/interfacial tension of water is comparatively very high, meaning there is a large energetic cost to creating an ice/water interface. For supercooled droplets that \"want\" to transition into the solid (ie lower energy) state, the benefit of existing as bulk ice must outweigh the cost of constructing the interface, which only occurs around -40"
   ]
  },
  {
   "cell_type": "markdown",
   "metadata": {},
   "source": [
    "**5.  (3 points)** Now we want to calculate immersion freezing of droplets by dust particles.  The theoretical description of heterogeneous freezing processes on aerosol particles is still not completely understood.  One theory, the ice-active surface sites theory, assumes that the time dependence of the ice nucleation process can be neglected under specific conditions.Ice nucleation thus depends on temperature (for immersion freezing) or $RH_{ice}$ (for deposition nucleation).  The ice nucleation ability of an aerosol species can then be expressed by $n_s$, the number of ice active surface sites per unit surface area of the material, which can be approximated as:\n",
    "\n",
    "$$\n",
    "n_s = \\frac{N_{ice}}{SA}\n",
    "$$\n",
    "\n",
    "with $N_{ice}$ being the total number concentration of ice crystals and $SA$ the total surface area of the aerosol particles per unit volume of air.  (The equation assumes 1 active site per particle.)  For natural dusts can be approximated as (Niemand et al., 2012):\n",
    "\n",
    "$$\n",
    "n_s(T) = e^{-0.517(T-273.15)+8.934}m^{-2}\n",
    "$$ \n",
    "\n",
    "valid for $-36^oC < T < -12^oC$. Now let’s assume a cloud with 100 cm−3 droplets that formed in an air parcel with dust concentrations of 200 L−1 with radius of 0.2μm (which can be assumed to be spherical).How many ice crystals are formed by immersion freezing at -23°C, -33°C, and -43°C? What is the problem with your answer at the coldest temperature?"
   ]
  },
  {
   "cell_type": "markdown",
   "metadata": {},
   "source": [
    "total surface area of the dust INPs is the number concentration/volume of air times the surface area per dust mote of radius $a$\n",
    "\n",
    "$$\n",
    "SA = 4\\pi a^2 \\cdot [dust]\n",
    "$$\n",
    "\n",
    "Combine the equations above and solve for $N_{ice}$:\n",
    "\n",
    "$$\n",
    "N_{ice} = e^{-0.517(T-273.15)+8.934}\\cdot 4\\pi a^2 \\cdot [dust]\n",
    "$$\n",
    "\n",
    "Assuming all dust is incorporated into droplets and freezes in the immersion mode, we can solve for $N_{ice}$ as a function of temperature"
   ]
  },
  {
   "cell_type": "code",
   "execution_count": null,
   "metadata": {},
   "outputs": [],
   "source": [
    "dust = 200  # /L\n",
    "dust *= 1000  # L/m3\n",
    "a = 0.2 * 10 ** -6  # m\n",
    "\n",
    "\n",
    "def N_ice(T):\n",
    "    N_ice = np.exp(-0.517 * (T - 273.15) + 8.934) * 4 * np.pi * a **2 * dust\n",
    "    return N_ice\n",
    "\n",
    "print('temp (oC)    |  N_ice  ')\n",
    "print('-------------------------')\n",
    "for temp in temps:\n",
    "    N = N_ice(temp)\n",
    "    print(f'   {round(temp-273)}       |  {(round(N))} ')"
   ]
  },
  {
   "cell_type": "markdown",
   "metadata": {},
   "source": [
    "Because of heterogeneous freezing, we see an exponential increase (much less steep than homogeneous freezing) in ice particles with decreasing temperature. At temperatures close to -40$^oC$, homogeneous freezing can also occur, the effect of which will be difficult to separate from that of heterogeneous freezing."
   ]
  },
  {
   "cell_type": "markdown",
   "metadata": {},
   "source": [
    "**6. (1 point)** How do your results from (5) fit into the picture of (3) and (4)?  (Discuss the role of homogeneous and heterogeneous nucleation for ice formation at different temperatures.\n",
    "\n",
    "We have shown that homogeneous freezing of water droplets in atmospheric conditions is virtually impossible above ~ -40$^oC$. However, ice most certainly occurs in clouds above this temperature. Ice nuclei like the dust in question 5 are thought to lower the energy barrier preventing nucleation of ice, and thus facilitate freezing at warmer temperatures. Exactly how this occurs is still extremely unclear."
   ]
  },
  {
   "cell_type": "code",
   "execution_count": null,
   "metadata": {},
   "outputs": [],
   "source": []
  },
  {
   "cell_type": "code",
   "execution_count": null,
   "metadata": {},
   "outputs": [],
   "source": []
  }
 ],
 "metadata": {
  "kernelspec": {
   "display_name": "Python 3",
   "language": "python",
   "name": "python3"
  },
  "language_info": {
   "codemirror_mode": {
    "name": "ipython",
    "version": 3
   },
   "file_extension": ".py",
   "mimetype": "text/x-python",
   "name": "python",
   "nbconvert_exporter": "python",
   "pygments_lexer": "ipython3",
   "version": "3.7.9"
  }
 },
 "nbformat": 4,
 "nbformat_minor": 4
}
