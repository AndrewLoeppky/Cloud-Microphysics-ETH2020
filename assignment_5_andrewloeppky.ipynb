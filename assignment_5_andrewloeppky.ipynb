{
 "cells": [
  {
   "cell_type": "code",
   "execution_count": 1,
   "metadata": {},
   "outputs": [],
   "source": [
    "import numpy as np\n",
    "import matplotlib.pyplot as plt"
   ]
  },
  {
   "cell_type": "markdown",
   "metadata": {},
   "source": [
    "# CMP Assignment 5\n",
    "## Andrew Loeppky\n",
    "## Fall 2020"
   ]
  },
  {
   "cell_type": "markdown",
   "metadata": {},
   "source": [
    "## Question 1\n",
    "The Oseen flow is a more complex version of the Stokes flow as it does not completely ignore the inertial force but linearizes it. This leads to an analytical solution of the Navier-Stokes equation, which can be described as a streamfunction (Eq. 8.31, Wang 2012):\n",
    "\n",
    "$$\n",
    "\\Psi_{Os} = \\frac{U_\\infty a^2 sin^2\\theta}{2}\\left(\\frac{r}{a}-1\\right)^2 \\left[\\left(1+\\frac{3}{16}N_{Re}\\right)\\left(1+\\frac{a}{2r}\\right) + \\frac{3}{16}N_{Re}\\left(1+\\frac{a}{r}\\right)^2cos\\theta\\right]\n",
    "$$\n",
    "\n",
    "Re-write using a coordinate system where we set $a$ to unity\n",
    "\n",
    "$$\n",
    "\\Psi_{Os} = \\frac{U_\\infty sin^2\\theta}{2}\\left(r-1\\right)^2 \\left[\\left(1+\\frac{3}{16}N_{Re}\\right)\\left(1+\\frac{1}{2r}\\right) + \\frac{3}{16}N_{Re}\\left(1+\\frac{1}{r}\\right)^2cos\\theta\\right]\n",
    "$$\n",
    "\n",
    "Velocity components:\n",
    "\n",
    "$$\n",
    "u_r = \\frac{-1}{r^2sin\\theta}\\left(\\frac{\\partial\\Psi}{\\partial\\theta}\\right)\n",
    "$$\n",
    "\n",
    "$$\n",
    "u_\\theta = \\frac{1}{rsin\\theta}\\left(\\frac{\\partial\\Psi}{\\partial r}\\right)\n",
    "$$"
   ]
  },
  {
   "cell_type": "markdown",
   "metadata": {},
   "source": [
    "Calculate the partial derivative wrt $\\theta$:\n",
    "\n",
    "$$\n",
    "\\Psi_{Os} = \\left[\\frac{U_\\infty}{2}(r-1)^2\\right]sin^2\\theta \\cdot \\left[\\left(1+\\frac{3}{16}N_{Re}\\right)\\left(1+\\frac{1}{2r}\\right) + \\frac{3}{16}N_{Re}\\left(1+\\frac{1}{r}\\right)^2cos\\theta\\right]\n",
    "$$\n",
    "\n",
    "Let\n",
    "\n",
    "$\n",
    "A = \\frac{U_\\infty}{2}(r-1)^2\n",
    "$\n",
    "\n",
    "$\n",
    "B = \\left(1+\\frac{3}{16}N_{Re}\\right)\\left(1+\\frac{1}{2r}\\right)\n",
    "$\n",
    "\n",
    "$\n",
    "C = \\frac{3}{16}N_{Re}\\left(1+\\frac{1}{r}\\right)^2\n",
    "$\n",
    "\n",
    "So that \n",
    "\n",
    "$\n",
    "\\Psi_{Os} = Asin^2\\theta \\cdot [B + Ccos\\theta]\n",
    "$\n",
    "\n",
    "Calculate the derivative in $\\theta$ using the product rule\n",
    "\n",
    "$$\n",
    "\\frac{\\partial\\Psi_{Os}}{\\partial\\theta} = 2Asin\\theta cos\\theta(B+Ccos\\theta)-ACsin^3\\theta\n",
    "$$\n",
    "\n",
    "And plug into the $u_r$ formula above to obtain\n",
    "\n",
    "$$\n",
    "\\boxed{u_r = \\frac{-1}{r^2}[2Acos\\theta(B+Ccos\\theta)-ACsin^2\\theta]}\n",
    "$$"
   ]
  },
  {
   "cell_type": "markdown",
   "metadata": {},
   "source": [
    "Now find $\\frac{\\partial\\Psi}{\\partial r}$ by first rearranging:\n",
    "\n",
    "$$\n",
    "\\Psi_{Os} = \\frac{U_\\infty sin^2\\theta}{2}\\left(r-1\\right)^2 \\left[\\left(1+\\frac{3}{16}N_{Re}\\right)\\left(1+\\frac{1}{2r}\\right) + \\frac{3}{16}N_{Re}cos\\theta\\left(1+\\frac{1}{r}\\right)^2\\right]\n",
    "$$\n",
    "\n",
    "Letting:\n",
    "\n",
    "$\n",
    "D = \\frac{U_\\infty sin^2\\theta}{2}\n",
    "$\n",
    "\n",
    "$\n",
    "E = \\left(1+\\frac{3}{16}N_{Re}\\right)\n",
    "$\n",
    "\n",
    "$\n",
    "F = \\frac{3}{16}N_{Re}cos\\theta\n",
    "$\n",
    "\n",
    "and write $\\Psi_{Os}$ as\n",
    "\n",
    "$$\n",
    "\\Psi_{Os} = D(r-1)^2\\left[E\\left(1+\\frac{1}{2r}\\right) + F\\left(1+\\frac{1}{r}\\right)^2\\right]\n",
    "$$\n",
    "\n",
    "differentiate again using the product rule:\n",
    "\n",
    "$$\n",
    "\\frac{\\partial\\Psi_{Os}}{\\partial r} = D(r-1)\\left[2\\left(E\\left(1+\\frac{1}{2r}\\right) + F\\left(1+\\frac{1}{r}\\right)^2\\right) - (r-1)\\left(\\frac{E}{2r^2} + \\frac{2F(r+1)}{r^3}\\right)\\right]\n",
    "$$\n",
    "\n",
    "plug in to get $u_\\theta$\n",
    "\n",
    "$$\n",
    "u_\\theta = \\frac{D(r-1)}{rsin\\theta}\\left[2\\left(E\\left(1+\\frac{1}{2r}\\right) + F\\left(1+\\frac{1}{r}\\right)^2\\right) - (r-1)\\left(\\frac{E}{2r^2} + \\frac{2F(r+1)}{r^3}\\right)\\right]\n",
    "$$"
   ]
  },
  {
   "cell_type": "code",
   "execution_count": 83,
   "metadata": {},
   "outputs": [],
   "source": [
    "# assign variables\n",
    "U = 1\n",
    "r = 2  # in units of 'a'\n",
    "theta = np.linspace(0.01, np.pi, 100)  # rad\n",
    "N = 20  # reynolds no\n",
    "\n",
    "A = U / 2 * (r - 1) ** 2\n",
    "B = (1 + (3 / 16) * N) * (1 + 1 / (2 * r))\n",
    "C = (3 / 16) * N * (1 + 1 / r) ** 2\n",
    "\n",
    "D = (U * np.sin(theta) ** 2) / 2\n",
    "E = 1 + ((3 / 16) * N)\n",
    "F = (3 / 16) * N * np.cos(theta)"
   ]
  },
  {
   "cell_type": "code",
   "execution_count": 84,
   "metadata": {},
   "outputs": [],
   "source": [
    "# calculate u components\n",
    "u_r = (-1 / r ** 2) * (2 * A * np.cos(theta) - A * C * np.sin(theta) ** 2)\n",
    "u_th = (D * (r - 1) / (r * np.sin(theta))) * (2*(E*(1+1/(2*r))+F*(1+(1/r))**2) - (r-1)*(E/(2*r**2)+(2*F*(r+1))/r**3))\n",
    "u_t = (u_r**2 + u_th**2)**0.5 # total velocity"
   ]
  },
  {
   "cell_type": "code",
   "execution_count": 85,
   "metadata": {},
   "outputs": [
    {
     "data": {
      "text/plain": [
       "<matplotlib.legend.Legend at 0x2d2ca190648>"
      ]
     },
     "execution_count": 85,
     "metadata": {},
     "output_type": "execute_result"
    },
    {
     "data": {
      "image/png": "[encoded data removed]",
      "text/plain": [
       "<Figure size 432x288 with 1 Axes>"
      ]
     },
     "metadata": {
      "needs_background": "light"
     },
     "output_type": "display_data"
    }
   ],
   "source": [
    "# \n",
    "plt.plot(theta, u_r,label='$u_r$')\n",
    "plt.plot(theta, u_th,label='$u_{\\Theta}$')\n",
    "plt.plot(theta,u_t,label='$u_{tot}$')\n",
    "plt.xlabel('$\\Theta$ (rad)')\n",
    "plt.ylabel('Velocity ($U_\\infty^{-1}$)')\n",
    "plt.legend()"
   ]
  },
  {
   "cell_type": "markdown",
   "metadata": {},
   "source": [
    "$4*U_\\infty$ seems high for the accelerated flow near the drop. Both velocities go to zero at $r=a$, but not to 1 when $r\\rightarrow\\infty$. Find my mistake?"
   ]
  },
  {
   "cell_type": "markdown",
   "metadata": {},
   "source": [
    "## Question 2\n",
    "\n",
    "Continuing, the drag force within the Oseen regime can be calculated from the pressure field, following Eq. 8.32 (Wang, 2012)\n",
    "\n",
    "$$\n",
    "F_{D,Os} = 6\\pi\\eta aU_\\infty\\left(1+\\frac{3}{16}N_{Re}\\right)\n",
    "$$\n",
    "\n",
    "where \n",
    "\n",
    "$$\n",
    "N_{Re} = \\frac{2\\rho_a U_\\infty a}{\\eta}\n",
    "$$\n",
    "\n",
    "Using this drag force, calculate the terminal sedimentation velocity of a $40 \\mu m$ (diameter?) spherical solid aerosol particle that sediments under the infuence of gravity and friction. Is its sedimentation laminar or turbulent?"
   ]
  },
  {
   "cell_type": "markdown",
   "metadata": {},
   "source": [
    "If the particle is falling at terminal velocity, gravitational force (mass times gravity) is equal to drag, ie\n",
    "\n",
    "$$\n",
    "F_{D,Os} = F_g\n",
    "$$\n",
    "\n",
    "$$\n",
    "6\\pi\\eta aU_\\infty\\left(1+\\frac{3}{16}N_{Re}\\right) = \\frac{4}{3}\\pi a^3 \\rho_{p}g\n",
    "$$\n",
    "\n",
    "note $\\rho_{a}$ is the density of air ($\\approx 1kg/m^3$) and $\\rho_p$ is the density of the particle ($2700 kg/m^3$). Cross out some terms and substitute the expression for $N_{Re}$:\n",
    "\n",
    "$$\n",
    "6\\pi\\eta aU_\\infty\\left(1+\\frac{3}{16}\\frac{2\\rho_a U_\\infty a}{\\eta}\\right) = \\frac{4}{3}\\pi a^3 \\rho_{p}g\n",
    "$$\n",
    "\n",
    "$$\n",
    "\\frac{3\\rho_a a}{8\\eta}U_\\infty^2 + U_\\infty - \\frac{2a^2\\rho_pg}{9\\eta} = 0\n",
    "$$\n",
    "\n",
    "Now solve the formula to find the roots, or alternately use a handy polynomial function in python"
   ]
  },
  {
   "cell_type": "code",
   "execution_count": 5,
   "metadata": {},
   "outputs": [
    {
     "name": "stdout",
     "output_type": "stream",
     "text": [
      "Terminal velocity of the particle is 0.127 m/s\n"
     ]
    }
   ],
   "source": [
    "a = 20e-6  # m\n",
    "g = 9.81 #m/s2\n",
    "dens_p = 2700  # kg/m3\n",
    "dens_a = 1.0  # kg/m3\n",
    "eta = 1.754e-5  # https://www.engineersedge.com/physics/viscosity_of_air_dynamic_and_kinematic_14483.htm\n",
    "\n",
    "coeffs = [(3 * dens_a * a / (8 * eta)), 1, (-2 * a ** 2 * dens_p * g / (9 * eta))]\n",
    "the_answer = np.roots(coeffs)[1]\n",
    "\n",
    "print(f'Terminal velocity of the particle is {round(the_answer,3)} m/s')"
   ]
  },
  {
   "cell_type": "markdown",
   "metadata": {},
   "source": [
    "Use this velocity to calculate the Reynolds number of the flow:"
   ]
  },
  {
   "cell_type": "code",
   "execution_count": 6,
   "metadata": {},
   "outputs": [
    {
     "name": "stdout",
     "output_type": "stream",
     "text": [
      "The Reynolds number of the flow is 0.29\n"
     ]
    }
   ],
   "source": [
    "Re = 2 * dens_a * a * the_answer / eta\n",
    "print(f'The Reynolds number of the flow is {round(Re,3)}')"
   ]
  },
  {
   "cell_type": "markdown",
   "metadata": {},
   "source": [
    "So the flow is safely within the laminar limit.\n",
    "\n",
    "How does the terminal sedimentation velocity assuming Oseen flow compare to the terminal sedimentation velocity assuming Stokes flow? The drag force due to Stokes flow field\n",
    "is Eq. 8.26 (Wang, 2012):\n",
    "\n",
    "$$\n",
    "F_{D,S} = 6\\pi\\eta a U_\\infty\n",
    "$$\n",
    "\n",
    "Again, set drag equal to gravity\n",
    "\n",
    "$$\n",
    "6\\pi\\eta a U_\\infty = \\frac{4}{3}\\pi a^3 \\rho_{p}g\n",
    "$$\n",
    "\n",
    "$$\n",
    "U_\\infty = \\frac{2a^2\\rho_pg}{9\\eta}\n",
    "$$"
   ]
  },
  {
   "cell_type": "code",
   "execution_count": 7,
   "metadata": {},
   "outputs": [
    {
     "name": "stdout",
     "output_type": "stream",
     "text": [
      "Stokes terminal velocity of the particle is 0.134 m/s\n"
     ]
    }
   ],
   "source": [
    "U_stokes = 2 * a ** 2 * dens_p * g / (9 * eta)\n",
    "print(f'Stokes terminal velocity of the particle is {round(U_stokes,3)} m/s')"
   ]
  },
  {
   "cell_type": "markdown",
   "metadata": {},
   "source": [
    "Inertial forces are only contributing a small portion of the drag at this low Re, so the correction is fairly small comparing Oseen and Stokes formulae"
   ]
  }
 ],
 "metadata": {
  "kernelspec": {
   "display_name": "Python 3",
   "language": "python",
   "name": "python3"
  },
  "language_info": {
   "codemirror_mode": {
    "name": "ipython",
    "version": 3
   },
   "file_extension": ".py",
   "mimetype": "text/x-python",
   "name": "python",
   "nbconvert_exporter": "python",
   "pygments_lexer": "ipython3",
   "version": "3.7.9"
  }
 },
 "nbformat": 4,
 "nbformat_minor": 4
}
