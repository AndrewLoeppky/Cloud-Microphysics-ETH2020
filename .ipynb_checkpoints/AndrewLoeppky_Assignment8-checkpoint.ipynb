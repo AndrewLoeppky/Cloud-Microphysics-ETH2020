{
 "cells": [
  {
   "cell_type": "code",
   "execution_count": 2,
   "metadata": {},
   "outputs": [],
   "source": [
    "import numpy as np\n",
    "from matplotlib import pyplot as plt"
   ]
  },
  {
   "cell_type": "markdown",
   "metadata": {},
   "source": [
    "# Assignment 8\n",
    "\n",
    "## Andrew Loeppky\n",
    "\n",
    "## Cloud Microphysics, ETH Fall 2020\n",
    "\n",
    "You are planning a cloud seeding experiment and want to estimate what you expect to happen.  For context,  cloud  seeding  is  the  process  of  intentionally  altering  the  formation  and  evolution  of  cloud particles (cloud droplets or ice) using efficient CCN or INPs to, for example, decrease the likelihood of large hail falling to the surface or to reduce the lifetime of high-altitude ice clouds as a geoengineering method.  In this assignment our goal is to completely dissipate a cloud containing a certain number of cloud droplets.  For more context on cloud seeding, you can refer to section 15.5 of the textbook (Wang, 2013). \n",
    "\n",
    "Assume a stable cloud composed of a uniform distribution of supercooled water droplets with a radius of 5μm and a number concentration of 200 cm−3.  The cloud top is at an altitude of 5 km, with a thickness of 1 km and a constant temperature of -15°C. \n",
    "\n",
    "In the experiment, cloud seeding particles with a radius of 1μm and a density of 2 g cm−3 are released from  an  aircraft  at  the  top  of  the  cloud.   Assume  that  the  seeding  particles  lead  to  cloud  droplet freezing as soon as they get immersed into a cloud droplet."
   ]
  },
  {
   "cell_type": "markdown",
   "metadata": {},
   "source": [
    "**1.  (7 points) Estimate how large (radius) the ice crystals will grow by vapor diffusion by the time they reach cloud base. State any assumptions you use. Is your result an over or underestimation?**\n",
    "\n",
    "•Use the following equation:\n",
    "\n",
    "$$\n",
    "\\frac{dm}{dt}= \\frac{4\\pi C(S_{v,i}−1)}{3.01e7}\n",
    "$$\n",
    "\n",
    "where $C$ is the crystal capacitance (in units of m),$S_{v,i}$ is the saturation ratio over ice, and the denominator has units of (m.s.kg−1).\n",
    "\n",
    "•Assume that ice crystals with a radius smaller than 50μm do not sediment and larger ice crystals  fall  with  a  constant  velocity  of  $0.5  m/s$.   You  can  further  assume  spherical  ice crystals, constant water saturation in the cloud, and you can neglect ventilation.\n",
    "\n",
    "•Plot the ice crystals radius vs. time to answer the question.  Show all the steps you used to get to the final radius vs. time plot."
   ]
  },
  {
   "cell_type": "code",
   "execution_count": 57,
   "metadata": {},
   "outputs": [],
   "source": [
    "# Define some initial variables\n",
    "T = 273.15 - 15. # K\n",
    "R = 8.314 # J/mol K\n",
    "droprad = 5e-6 # m\n",
    "dropcon = 200e6 # m^-3\n",
    "rho_i = 920. # kg/m3\n",
    "rho_w = 1000. #kg/m3\n",
    "v_w = 1.802e-5 # molar volume of water m^3/mol\n",
    "sigma_vw = 0.728 # J/m2"
   ]
  },
  {
   "cell_type": "markdown",
   "metadata": {},
   "source": [
    "Set $C=r$, and substitute a mass element for a volume element using:\n",
    "\n",
    "$$\n",
    "dm = \\rho dV\n",
    "$$\n",
    "\n",
    "$$\n",
    "\\rho \\frac{dV}{dt} = \\frac{4\\pi(S_{vi}-1)}{3.01e7}r\n",
    "$$\n",
    "\n",
    "express $r$ in terms of volume and integrate:\n",
    "\n",
    "$$\n",
    "V = \\frac{4}{3}\\pi r^3 => r=\\left(\\frac{3V}{4\\pi}\\right)^{\\frac{1}{3}}\n",
    "$$\n",
    "\n",
    "$$\n",
    "\\int^{V'}_{V_0}\\frac{dV}{V^{\\frac{1}{3}}} = \\frac{4\\pi(S_{iv}-1)}{\\rho 3.01e7}\\left(\\frac{3}{4\\pi}\\right)^{\\frac{1}{3}} \\int_{0}^{t'}dt\n",
    "$$\n",
    "\n",
    "$$\n",
    "\\frac{3}{2}V^{\\frac{2}{3}} + C = \\frac{4\\pi(S_{iv}-1)}{\\rho 3.01e7}\\left(\\frac{3}{4\\pi}\\right)^{\\frac{1}{3}}t\n",
    "$$\n",
    "\n",
    "Note the LHS is in units of $V^{\\frac{2}{3}}=l^2$ length squared. Again, assuming spherical particles:\n",
    "\n",
    "$$\n",
    "V^{\\frac{2}{3}} = \\frac{2}{3}\\frac{4\\pi(S_{iv}-1)}{\\rho 3.01e7}\\left(\\frac{3}{4\\pi}\\right)^{\\frac{1}{3}}t + l^2\n",
    "$$\n",
    "\n",
    "$$\n",
    "\\left(\\frac{4}{3}\\pi\\right)^{\\frac{2}{3}} r^2 = \\frac{2}{3}\\frac{4\\pi(S_{iv}-1)}{\\rho 3.01e7}\\left(\\frac{3}{4\\pi}\\right)^{\\frac{1}{3}}t + l^2\n",
    "$$\n",
    "\n",
    "$$\n",
    "r = \\sqrt{\\left(\\frac{3}{4\\pi}\\right)^{\\frac{2}{3}}\\frac{2}{3}\\frac{4\\pi(S_{iv}-1)}{\\rho 3.01e7}\\left(\\frac{3}{4\\pi}\\right)^{\\frac{1}{3}}t + l^2}\n",
    "$$\n",
    "\n",
    "$$\n",
    "\\boxed{r(t) = \\sqrt{\\frac{2(S_{iv}-1)}{\\rho 3.01e7}t + r_0^2}}\n",
    "$$"
   ]
  },
  {
   "cell_type": "markdown",
   "metadata": {},
   "source": [
    "We arrive at an equation for $r(t)$ evolving with time. Sanity check: at $t=0$, $r(0) = \\sqrt{r_0^2} = r_0$, and droplet growth slows with time (As the spherical particle grows, adding a \"layer\" of ice takes longer because surface area increases faster than the radius.\n",
    "\n",
    "Next, we need to calculate $S_{iv}$, the supersaturation with respect to ice over vapour. The problem gives us a stable (steady state) cloud with 5$\\mu m$ droplets, which we can use to find $S$.\n",
    "\n",
    "$$\n",
    "\\frac{e_{sat,a}}{e_{sat,\\infty}} = exp\\left(\\frac{2\\nu_w\\sigma}{RTa}\\right) \\tag{Kelvin eqn, Wang 5.51}\n",
    "$$\n",
    "\n",
    "$$\n",
    "ln(e_{sat,w}) \\approx 54.842763 - \\frac{6763.22}{T}-4.210ln(T) + 0.000367T + tanh(0.0414(T-218.8))\\cdot(53.878-\\frac{1331.22}{T} - 9.44523ln(T) + 0.014025T) \\tag{Wang 4.37}\n",
    "$$\n",
    "\n",
    "$$\n",
    "e_{sat,i} = exp\\left(9.550426 - \\frac{5723.265}{T} + 3.52068ln(T) - 0.00728332T\\right) \\tag{Wang 4.38}\n",
    "$$\n",
    "\n",
    "Use 5.51 to find the saturation vapour pressure wrt water, then multiply by the ratio $\\frac{e_{sat,w}}{e_{sat,i}}$ to find $S_{vi}$"
   ]
  },
  {
   "cell_type": "code",
   "execution_count": 38,
   "metadata": {},
   "outputs": [
    {
     "name": "stdout",
     "output_type": "stream",
     "text": [
      " S_vw = 1.0024479076116457\n"
     ]
    }
   ],
   "source": [
    "S_vw = np.exp(2 * v_w * sigma_vw / (R * T * droprad)) # eqn 5.51\n",
    "print(f' S_vw = {S_vw}')"
   ]
  },
  {
   "cell_type": "code",
   "execution_count": 39,
   "metadata": {},
   "outputs": [
    {
     "name": "stdout",
     "output_type": "stream",
     "text": [
      "e_satw = 191.322152205916 Pa\n"
     ]
    }
   ],
   "source": [
    "e_satw = np.exp(\n",
    "    54.842763\n",
    "    - 6763.22 / T\n",
    "    - 4.210 * np.log(T)\n",
    "    + 0.000367 * T\n",
    "    + np.tanh(0.0414 * (T - 218.8))\n",
    "    * (53.878 - 1331.22 / T - 9.44523 * np.log(T) + 0.014025 * T)\n",
    ") # eqn 4.37\n",
    "print(f'e_satw = {e_satw} Pa')"
   ]
  },
  {
   "cell_type": "code",
   "execution_count": 40,
   "metadata": {},
   "outputs": [
    {
     "name": "stdout",
     "output_type": "stream",
     "text": [
      "e_sati = 156.36125154252957 Pa\n"
     ]
    }
   ],
   "source": [
    "e_sati = np.exp(9.550426 - 5723.265 / T + 3.52068 * np.log(T) - 0.00728332 * T) # eqn 4.38\n",
    "print(f'e_sati = {e_sati} Pa')"
   ]
  },
  {
   "cell_type": "code",
   "execution_count": 41,
   "metadata": {},
   "outputs": [
    {
     "name": "stdout",
     "output_type": "stream",
     "text": [
      "S_vi = 1.2265858022146308\n"
     ]
    }
   ],
   "source": [
    "S_vi = S_vw * e_satw / e_sati\n",
    "print(f'S_vi = {S_vi}')"
   ]
  },
  {
   "cell_type": "markdown",
   "metadata": {},
   "source": [
    "Sanity check \\#2: Saturation over ice is higher than over water, as expected. We assume the crystals will remain in the cloud until $r = 50\\mu m$, so set $r_0= 5\\cdot10^{-5} m$. If sedimenting droplets fall at a constant rate $0.5m/s$, they will reach cloud base 1km below in:\n",
    "\n",
    "$$\n",
    "t = \\frac{1000m}{0.5m/s} = 2000s\n",
    "$$\n",
    "\n",
    "Now plug our values into the equation for $r(t)$:"
   ]
  },
  {
   "cell_type": "code",
   "execution_count": 44,
   "metadata": {},
   "outputs": [],
   "source": [
    "t = np.linspace(0,2000,2000) # s\n",
    "r0 = 5e-5 # initial radius\n",
    "r = np.sqrt((2*t*(S_vi - 1))/(rho_i*3.01e7) + r0**2)"
   ]
  },
  {
   "cell_type": "code",
   "execution_count": 53,
   "metadata": {},
   "outputs": [
    {
     "name": "stdout",
     "output_type": "stream",
     "text": [
      "Final radius at cloud base: 187.7 um\n"
     ]
    },
    {
     "data": {
      "image/png": "[encoded data removed]",
      "text/plain": [
       "<Figure size 432x288 with 1 Axes>"
      ]
     },
     "metadata": {
      "needs_background": "light"
     },
     "output_type": "display_data"
    }
   ],
   "source": [
    "plt.plot(t,r)\n",
    "plt.xlabel('time (s)')\n",
    "plt.ylabel('crystal radius (m)')\n",
    "print(f'Final radius at cloud base: {round(r[-1]*1e6,2)} um')"
   ]
  },
  {
   "cell_type": "markdown",
   "metadata": {},
   "source": [
    "Discussion: We used some pretty bold assumptions to get to this answer. \n",
    "\n",
    "* The binary fall velocities may over- or underestimate the time spent growing. The droplets would in reality slowly gain speed as they grow, so the initial fall velocity (v=0) would cause an overestimation of crystal size, and the second fall velocity could over- or underestimate the size, depending on how close it is to the actual average fall velocity over the depth of the cloud.\n",
    "\n",
    "* Constant supersaturation is also not entirely realistic. Growing crystals would deplete water vapour near them, and it would take a finite amount of time for more vapour to diffuse down-gradient to replace vapour consumed by the ice. "
   ]
  },
  {
   "cell_type": "markdown",
   "metadata": {},
   "source": [
    "**2.  (2  points)  How  many  seeding  particles  per  m3 would  you  need  to  dissipate  the  whole  cloud? Consider the entire cloud column and assume that each seeding particle leads to an ice crystalof the size you found in question 1 at cloud base.  State all your assumptions.  Based on your assumptions, is your result an over- or underestimation?**\n",
    "\n",
    "Assiming the cloud is horizontally uniform, we can roughly estimate this by calculating the column-cloud water content and using our previous assumptions of constant saturation and no ventilation.\n",
    "\n",
    "Consider a $1m^2$ column that stretches from cloud base to cloud top. The total amount of water in this column would be:\n",
    "\n",
    "$$\n",
    "CWC = V_{drop} (m^3) * droplet\\space density \\space (droplets/m^3) * volume \\space of\\space column \\space(m^3)\n",
    "$$\n",
    "\n",
    "$$\n",
    "= \\frac{4}{3}\\pi r_{drop}^3 * \\rho_{drops} * A_{column}*h\n",
    "$$"
   ]
  },
  {
   "cell_type": "code",
   "execution_count": 56,
   "metadata": {},
   "outputs": [
    {
     "name": "stdout",
     "output_type": "stream",
     "text": [
      "water volume/m2 of cloud: 0.00010471975511965979 m3\n"
     ]
    }
   ],
   "source": [
    "cloud_depth = 1000. # m\n",
    "column_area = 1. # m2\n",
    "\n",
    "CWC = 4/3 * np.pi * droprad**3 * dropcon * column_area * cloud_depth\n",
    "print(f'water volume/m2 of cloud: {CWC} m3')"
   ]
  },
  {
   "cell_type": "markdown",
   "metadata": {},
   "source": [
    "Now all we have to do is figure out what colume of water is consumed by each seeding particle and divide CWC by this value. We will retain our assumption that ice has a constant density of 920kg/m3 and water 1000kg/m3.\n",
    "\n",
    "$$\n",
    "V_{water} \\space(m^3/seed) = \\frac{4}{3}\\pi r^3_{crystal} * \\frac{\\rho_w}{\\rho_i}\n",
    "$$\n",
    "\n",
    "$$\n",
    "\\# seeds = \\frac{CWC}{V_{water}} (seeds/m^2)\n",
    "$$"
   ]
  },
  {
   "cell_type": "code",
   "execution_count": 62,
   "metadata": {},
   "outputs": [
    {
     "name": "stdout",
     "output_type": "stream",
     "text": [
      "Each seed consumes 3.010641857392225e-11 m3 of cloud water\n"
     ]
    }
   ],
   "source": [
    "Vwat = 4/3 * np.pi * r[-1]**3 * rho_w / rho_i\n",
    "print(f'Each seed consumes {Vwat} m3 of cloud water')"
   ]
  },
  {
   "cell_type": "code",
   "execution_count": 67,
   "metadata": {},
   "outputs": [
    {
     "name": "stdout",
     "output_type": "stream",
     "text": [
      "To dissipate the cloud, we need 3478320 seeds per square meter.\n"
     ]
    }
   ],
   "source": [
    "numseeds = CWC / Vwat\n",
    "print(f'To dissipate the cloud, we need {round(numseeds)} seeds per square meter.')"
   ]
  },
  {
   "cell_type": "markdown",
   "metadata": {},
   "source": [
    "Discussion: \n",
    "\n",
    "* We assume that each seed is perfectly efficient at consuming vapour at the expense of the liquid droplets, but we know from the time series in question 1 that droplets will grow faster at base than cloud top. Assuming 100% efficiency is almost never a good idea in engineering, and this is likely an *underestimation* of the required number of seeds. \n",
    "* We have also completely ignored effects due to dynamics within the cloud, which are likely to be important in this sort of experiment."
   ]
  },
  {
   "cell_type": "markdown",
   "metadata": {},
   "source": [
    "**3.  (1 point) Provide one example of a good and bad material for cloud seeding**\n",
    "\n",
    "* Good cloud seeds: K-feldspar - have been shown to act as efficient INPs in temperature ranges < -15C, and some activity at warmer temperatures (Kanji et al, 2017). It is also naturally occurring and therefore not an environmental risk.\n",
    "\n",
    "* Bad cloud seeds: Most things are poor cloud seeds... Meatballs? While they are rich in organics (shown to increase IN ability, Bogler and Dedekind 2020), the terminal velocity of an tybical meatball is likely too fast to allow for efficient growth of ice crystals given length scales typical of mixed phase clouds. Environmental impacts of this method are discussed by Barret and Barret (1978) and revisited by Lord and Miller (2009), however, the scientific validity of their findings is debatable. (https://en.wikipedia.org/wiki/Cloudy_with_a_Chance_of_Meatballs)"
   ]
  },
  {
   "cell_type": "code",
   "execution_count": null,
   "metadata": {},
   "outputs": [],
   "source": []
  }
 ],
 "metadata": {
  "kernelspec": {
   "display_name": "Python 3",
   "language": "python",
   "name": "python3"
  },
  "language_info": {
   "codemirror_mode": {
    "name": "ipython",
    "version": 3
   },
   "file_extension": ".py",
   "mimetype": "text/x-python",
   "name": "python",
   "nbconvert_exporter": "python",
   "pygments_lexer": "ipython3",
   "version": "3.7.9"
  }
 },
 "nbformat": 4,
 "nbformat_minor": 4
}
