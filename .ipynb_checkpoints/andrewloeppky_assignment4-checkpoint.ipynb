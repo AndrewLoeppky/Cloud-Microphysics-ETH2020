{
 "cells": [
  {
   "cell_type": "markdown",
   "metadata": {},
   "source": [
    "# Assignment 4\n",
    "## Cloud Microphysics 2020\n",
    "## Andrew Loeppky"
   ]
  },
  {
   "cell_type": "markdown",
   "metadata": {},
   "source": [
    "## Question 1\n",
    "(8 points) <br>\n",
    "Objective: Given the drop size distribution of the blue histogram shown in Figure 1, find\n",
    "the best fit equation to describe the distribution using the (a) gamma size distribution\n",
    "function, and (b) lognormal size distribution. Overlay both fits with the histogram."
   ]
  },
  {
   "cell_type": "code",
   "execution_count": 4,
   "metadata": {
    "scrolled": true
   },
   "outputs": [],
   "source": [
    "import numpy as np\n",
    "import matplotlib.pyplot as plt"
   ]
  },
  {
   "cell_type": "code",
   "execution_count": 66,
   "metadata": {},
   "outputs": [
    {
     "data": {
      "image/png": "[encoded data removed]",
      "text/plain": [
       "<Figure size 432x288 with 1 Axes>"
      ]
     },
     "metadata": {
      "needs_background": "light"
     },
     "output_type": "display_data"
    }
   ],
   "source": [
    "# Recreate the histogram given\n",
    "diameter = np.array([6.79, 8.08, 9.3, 10.7, 12.4, 14.2, 16.3, 18.9])  # \\mu m\n",
    "size_int = np.array(\n",
    "    [\n",
    "        7.20 - 6.35,\n",
    "        8.66 - 7.20,\n",
    "        9.90 - 8.66,\n",
    "        11.5 - 9.90,\n",
    "        13.4 - 11.5,\n",
    "        15.4 - 13.4,\n",
    "        17.8 - 15.4,\n",
    "        20.5 - 17.8,\n",
    "    ]\n",
    ")\n",
    "dens_blue = (\n",
    "    np.array([1.4, 4.9, 7.0, 3.3, 0.7, 0.1, 0, 0]) * 10\n",
    ")  # num drops/cm3/micrometer\n",
    "dens_red = (\n",
    "    np.array([0.1, 0.3, 1.7, 4.2, 5, 2.4, 0.5, 0.1]) * 10\n",
    ")  # num drops/cm3/micrometer\n",
    "plt.bar(diameter, dens_blue, color=\"lightblue\")\n",
    "plt.bar(diameter, dens_red, color=\"darkred\", alpha=0.5)\n",
    "plt.title('Droplet Size Distribution Histograms')\n",
    "plt.xlabel(\"diameter ($\\mu m$)\")\n",
    "plt.ylabel(\"$N_{drop} cm^{-3}\\mu m^{-1}$\");"
   ]
  },
  {
   "cell_type": "markdown",
   "metadata": {},
   "source": [
    "**A)** Fit using the Gamma size distribution function:\n",
    "$$\n",
    "N(D) = N_0D^\\alpha e^{-\\lambda D}\n",
    "$$\n",
    "where\n",
    "$$\n",
    "N_0 = \\frac{N_T}{\\Gamma(1+\\alpha)}\\lambda^{(1+\\alpha)}\n",
    "$$\n",
    "and <br>\n",
    "$\\alpha=25$<br>\n",
    "$\\Gamma (x) = (x-1)!$<br>\n",
    "$N_T, \\lambda$ are fit parameters\n",
    "\n",
    "**B)** Fit using the Log-Normal distribution function:\n",
    "$$\n",
    "N(D) = \\frac{N_T}{\\sqrt{2\\pi}\\sigma D}exp\\left(-\\frac{1}{2}\\left(\\frac{(ln(D) - ln(D_m)}{\\sigma}\\right)^2\\right)\n",
    "$$\n",
    "where \n",
    "$\n",
    "\\sigma = 0.17\n",
    "$\n",
    "and the fit parameters are $N_T$ and $D_m$\n",
    "\n",
    "**i.** (2 pt) Calculate/estimate the total number concentration and the mean drop diameter of the size distribution based on the blue histogram. Note that the y-axis is in\n",
    "droplet number per unit droplet diameter and unit sample volume (i.e. the numbers\n",
    "on the y-axis cannot be used directly to find the total number concentration)."
   ]
  },
  {
   "cell_type": "code",
   "execution_count": 7,
   "metadata": {},
   "outputs": [
    {
     "name": "stdout",
     "output_type": "stream",
     "text": [
      "BLUE DISTRIBUTION\n",
      "total concentration: 238 cm^-3\n",
      "mean droplet diameter: 9.35 um\n"
     ]
    }
   ],
   "source": [
    "# calculate total concentration and mean diameter for blue dist'n\n",
    "print('BLUE DISTRIBUTION')\n",
    "\n",
    "# Total number concentration of blue - look at units, to get N/cm3 we have to multiply by interval size (um)\n",
    "tot_conc = round(sum(dens_blue * size_int))\n",
    "print(f\"total concentration: {tot_conc} cm^-3\")\n",
    "\n",
    "# Mean diameter\n",
    "all_drops = sum(diameter * dens_blue * size_int)\n",
    "mean_diameter = round(all_drops / tot_conc, 2)\n",
    "print(f\"mean droplet diameter: {mean_diameter} um\")"
   ]
  },
  {
   "cell_type": "markdown",
   "metadata": {},
   "source": [
    "**ii.** (3 pts) Derive equations for the total number concentration and the mean drop\n",
    "diameter based on the assumed size distribution function. A useful definition here is\n",
    "the moment of a size distribution function, which is defined for the p-th moment as\n",
    "$$\n",
    "M(p) \\equiv \\int_{0}^{\\infty}D^pN(D)dD\n",
    "$$\n",
    "For the gamma distribution function, this is\n",
    "$$\n",
    "M(p)_{gamma} = \\frac{N_T}{\\lambda^p}\\frac{\\Gamma(1+\\alpha+p)}{\\Gamma(1+\\alpha)}\n",
    "$$\n",
    "while for the lognormal distribution, it's\n",
    "$$\n",
    "M(p)_{lognormal} = N_TD^p_mexp\\left(\\frac{p^2\\sigma^2}{2}\\right)\n",
    "$$"
   ]
  },
  {
   "cell_type": "markdown",
   "metadata": {},
   "source": [
    "The zeroth moment ($p=0$) is the total particle number, and the first moment ($p=1$) is the average particle diameter times the total number. \n",
    "\n",
    "### Gamma Dist:\n",
    "$\n",
    "M(0)_{gamma} = N_T = \\frac{N_T}{\\lambda^p}\\frac{\\Gamma(1+\\alpha+p)}{\\Gamma(1+\\alpha)}\n",
    "$\n",
    "\n",
    "$$\n",
    "N_T = \\frac{N_T}{\\lambda^0}\\frac{\\Gamma(1+\\alpha+0)}{\\Gamma(1+\\alpha)}\n",
    "$$\n",
    "\n",
    "$\n",
    "N_T = N_T\n",
    "$\n",
    "\n",
    "We see that $N_T$ is a free parameter, so we can simply plug in the value obtained from the histogram to produce the fit. Now calculate the paremeter $\\lambda$\n",
    "\n",
    "$\n",
    "M(1) = D_{avg}N_T = \\frac{N_T}{\\lambda^1}\\frac{\\Gamma(2+\\alpha)}{\\Gamma(1+\\alpha)}\n",
    "$\n",
    "\n",
    "$$\n",
    "\\lambda = \\frac{1}{D_{avg}}\\frac{(1+\\alpha)!}{(\\alpha)!}\n",
    "$$"
   ]
  },
  {
   "cell_type": "markdown",
   "metadata": {},
   "source": [
    "### Log-Normal\n",
    "\n",
    "Again, $N_T$ can be taken directly from the measured distribution. Calculate parameter $D_m$:\n",
    "\n",
    "\n",
    "$\n",
    "M(1)_{lognormal} = N_TD_{avg} = N_TD_m^1exp\\left(\\frac{1^2\\sigma^2}{2}\\right)\n",
    "$\n",
    "\n",
    "mode diameter $D_m$ from the mean and spread of the curve (we could have also just calculated the mode diameter from the measured distribution too)\n",
    "\n",
    "$$\n",
    "D_m = exp\\left(-\\frac{\\sigma^2}{2}\\right)D_{avg}\n",
    "$$"
   ]
  },
  {
   "cell_type": "markdown",
   "metadata": {},
   "source": [
    "**iii.** (2 pts) Solve for the two unknown variables in the function based on the above results."
   ]
  },
  {
   "cell_type": "code",
   "execution_count": 89,
   "metadata": {},
   "outputs": [
    {
     "name": "stdout",
     "output_type": "stream",
     "text": [
      "Parameters: \n",
      "    total droplet num = 238 cm^-3\n",
      "    lambda = 2.7807 /um\n",
      "    mode diameter = 9.2159 um\n"
     ]
    }
   ],
   "source": [
    "# initialize fit parameters\n",
    "alpha = 25\n",
    "sigma = 0.17\n",
    "NT = tot_conc\n",
    "Davg = mean_diameter\n",
    "lam = Davg ** -1 * np.math.factorial(alpha + 1) / np.math.factorial(alpha)\n",
    "Dmode = np.exp(-(sigma ** 2) / 2) * Davg\n",
    "N0 = NT / np.math.factorial(alpha) * lam ** (alpha + 1)\n",
    "\n",
    "print(f'Parameters: \\n\\\n",
    "    total droplet num = {NT} cm^-3\\n\\\n",
    "    lambda = {round(lam,4)} /um\\n\\\n",
    "    mode diameter = {round(Dmode,4)} um')"
   ]
  },
  {
   "cell_type": "markdown",
   "metadata": {},
   "source": [
    "**iv.** (1 pt) On the same \f",
    "gure, plot the distribution functions and the histogram."
   ]
  },
  {
   "cell_type": "code",
   "execution_count": 84,
   "metadata": {},
   "outputs": [
    {
     "data": {
      "image/png": "[encoded data removed]",
      "text/plain": [
       "<Figure size 432x288 with 1 Axes>"
      ]
     },
     "metadata": {
      "needs_background": "light"
     },
     "output_type": "display_data"
    }
   ],
   "source": [
    "# fitted functions\n",
    "D = np.linspace(1, 21, 100)\n",
    "gamma_blue = N0 * D ** (alpha) * np.exp(-lam * D)\n",
    "lognorm_blue = (\n",
    "    NT\n",
    "    / (np.sqrt(2 * np.pi) * sigma * D)\n",
    "    * np.exp(-0.5 * ((np.log(D) - np.log(Dmode)) / sigma) ** 2)\n",
    ")\n",
    "\n",
    "# plot everything together\n",
    "plt.bar(diameter, dens_blue, color=\"lightblue\")\n",
    "plt.plot(D, gamma_blue, \"--\", color=\"black\", label=\"Gamma Dist'n Fit\")\n",
    "plt.plot(D, lognorm_blue, \"-.\", color=\"black\", label=\"Log-Normal Fit\")\n",
    "plt.title('Droplet Size Distributions With Gamma and Log-Normal Fits')\n",
    "plt.xlabel(\"diameter ($\\mu m$)\")\n",
    "plt.ylabel(\"$N_{drop} cm^{-3}\\mu m^{-1}$\")\n",
    "plt.legend();"
   ]
  },
  {
   "cell_type": "markdown",
   "metadata": {},
   "source": [
    "## Question 2:\n",
    "(2 points) <br>\n",
    "Identify which of the two histograms in the figure above belongs to the respective altitudes (2320 m and 2780 m). Why?"
   ]
  },
  {
   "cell_type": "markdown",
   "metadata": {},
   "source": [
    "Cooler temperatures would shift the equilibrium diameter to favour larger droplets $\\therefore$ the RED distribution should represent the higher altidude (colder due to adiabatic expansion) sample, all other things equal.\n",
    "\n",
    "**RED $\\rightarrow$ 2780m <br> \n",
    "BLUE $\\rightarrow$ 2320m**"
   ]
  }
 ],
 "metadata": {
  "kernelspec": {
   "display_name": "Python 3",
   "language": "python",
   "name": "python3"
  },
  "language_info": {
   "codemirror_mode": {
    "name": "ipython",
    "version": 3
   },
   "file_extension": ".py",
   "mimetype": "text/x-python",
   "name": "python",
   "nbconvert_exporter": "python",
   "pygments_lexer": "ipython3",
   "version": "3.7.8"
  }
 },
 "nbformat": 4,
 "nbformat_minor": 4
}
