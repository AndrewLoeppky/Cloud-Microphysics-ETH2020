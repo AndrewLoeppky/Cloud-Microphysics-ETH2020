{
 "cells": [
  {
   "cell_type": "markdown",
   "metadata": {},
   "source": [
    "# Assignment 6\n",
    "## Cloud Microphysics Fall 2020\n",
    "## Andrew Loeppky"
   ]
  },
  {
   "cell_type": "markdown",
   "metadata": {},
   "source": [
    "Imagine you were walking outside in Zurich last Wednesday. The weather was rainy and windy,\n",
    "with a constant horizontal wind speed of about 7 km/h. Tired of being cold and wet, you\n",
    "sought shelter under a 2 meter high structure with no walls, and you notice that the ground is\n",
    "wet 50 cm inside the edge of the roof."
   ]
  },
  {
   "cell_type": "markdown",
   "metadata": {},
   "source": [
    "**1) (3 points) Calculate the average size of the drops assuming Stokes flow. Based on its size, what type of hydrometeor do you expect your result to be?**\n",
    "\n",
    "First, calculate time of flight from the 2m roof to the ground. Assume the droplet's motion relative to the air is straight down (at $v_t$) and the air is moving complelely horizontal at 7kph relative to the ground. (note $7kph=1.944m/s$)\n",
    "\n",
    "$$\n",
    "t_f = \\frac{0.5m}{1.944m/s} = 0.257s\n",
    "$$\n",
    "\n",
    "so if the droplet falls down the height of the building in that amount of time, its terminal velocity is:\n",
    "\n",
    "$$\n",
    "v_t = \\frac{2m}{0.257s} = 7.78m/s\n",
    "$$\n",
    "\n",
    "Using the stokes terminal velocity expression from assignment 5, calculate $a$\n",
    "\n",
    "$$\n",
    "v_t = \\frac{2a^2\\rho_pg}{9\\eta}\n",
    "$$\n",
    "\n",
    "$$\n",
    "a = \\sqrt{\\frac{9\\eta v_t}{2\\rho_p g}}\n",
    "$$\n",
    "\n",
    "$$\n",
    "a = \\sqrt{\\frac{9(1.754\\cdot10^{-5}kg/ms)(7.776m/s)}{2(1000kg/m^3) (9.81m/s^2)}} = 0.000250m\n",
    "$$\n",
    "\n",
    "The droplets are about half a millimeter in diameter - they are $\\boxed{drizzle \\space drops}$ (Wang SS8.3)"
   ]
  },
  {
   "cell_type": "markdown",
   "metadata": {},
   "source": [
    "**2. (4 points) Was the assumption to use Stokes flow in Question 1 accurate, yes or no? Shortly explain, and if not calculate the hydrometeor size using the correct flow regime. For your calculations, use a typical value for the drag coeffcient CD (Figure 8.12 from the course textbook by Pao K. Wang can help you here).**\n",
    "\n",
    "Stokes flow applies to non-turbulent flow. Calculate the reynolds number for these drops with eq 8.9:\n",
    "\n",
    "$$\n",
    "N_{Re} = \\frac{2\\rho_av_ta}{\\eta} = \\frac{2(1.2kg/m^3)(7.886m/s)(0.00025m)}{1.754\\cdot10^{-5}kg/ms} = 270\n",
    "$$\n",
    "\n",
    "So **these drops cannot be treated as Stokes flow**. We expect full turbulence onset at $N_{Re} \\approx 300$, therefore a better approximation might be equation 8.62\n",
    "\n",
    "$$\n",
    "C_D = \\frac{F_D}{\\frac{1}{2}\\rho_a v_t^2 A_c}\n",
    "$$\n",
    "\n",
    "Setting $F_D$ equal to gravity and solving for the droplet radius:\n",
    "\n",
    "$$\n",
    "C_D = \\frac{\\frac{4}{3}\\pi\\rho_p a^3g}{\\frac{1}{2}\\rho_a v_t^2 \\pi a^2}\n",
    "$$\n",
    "\n",
    "$$\n",
    "a = \\frac{3}{8}\\frac{C_D\\rho_av_t^2}{\\rho_pg}\n",
    "$$\n",
    "\n",
    "from figure 8.12 (Gunn/Kinzer polynomial fit), use a drag coefficient $C_D = 0.7$\n",
    "\n",
    "$$\n",
    "a = \\frac{3}{8}\\frac{0.7(1.2kg/m^3)(7.776m/s)^2}{(1000kg/m^3)(9.81m/s^2)} = \\boxed{1.9mm}\n",
    "$$"
   ]
  },
  {
   "cell_type": "markdown",
   "metadata": {},
   "source": [
    "**3. (2 points) If the hydrometeors were plate-shaped snowflakes with identical mass as thedrops, would the snowflakes land in front of or after the 50 cm line? Support your explanation with a calculation or physical reasoning.**\n",
    "\n",
    "The snowflakes would land further inside the structure. Ice is less dense than water, and flat plates have much higher drag coefficients than spheres (more cross sectional area as viewed from below), so their terminal velocity would be much lower. (the only assumption is that the wind remains perfectly horizontal and steady at 7kph)"
   ]
  },
  {
   "cell_type": "markdown",
   "metadata": {},
   "source": [
    "**4. (1 point) What do you think? If the relative humidity outside is 100%, would the drops\n",
    "obtained from either question 1 or 2 remain constant in size over time (assuming no drop\n",
    "distortion (i.e. perfectly spherical), or break-up)? Explain your answer.**\n",
    "\n",
    "At 100% RH, curvature effects dictate that the droplets should shrink due to evaporation, with the smaller (more curvature) droplets shrinking faster. However, droplet collisions, breakup, distortion are likely important factors here."
   ]
  },
  {
   "cell_type": "code",
   "execution_count": null,
   "metadata": {},
   "outputs": [],
   "source": []
  }
 ],
 "metadata": {
  "kernelspec": {
   "display_name": "Python 3",
   "language": "python",
   "name": "python3"
  },
  "language_info": {
   "codemirror_mode": {
    "name": "ipython",
    "version": 3
   },
   "file_extension": ".py",
   "mimetype": "text/x-python",
   "name": "python",
   "nbconvert_exporter": "python",
   "pygments_lexer": "ipython3",
   "version": "3.7.8"
  }
 },
 "nbformat": 4,
 "nbformat_minor": 4
}
